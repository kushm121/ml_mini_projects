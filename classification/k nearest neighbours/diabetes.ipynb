{
 "cells":[
  {
   "cell_type":"code",
   "source":[
    "import pandas as pd\n",
    "import numpy as np"
   ],
   "execution_count":1,
   "outputs":[
    
   ],
   "metadata":{
    "datalore":{
     "node_id":"HvHD4XDdcZnDGw1taOZqLV",
     "type":"CODE",
     "hide_input_from_viewers":false,
     "hide_output_from_viewers":false
    }
   }
  },
  {
   "cell_type":"code",
   "source":[
    "diabetes = pd.read_csv('diabetes[1].csv')"
   ],
   "execution_count":3,
   "outputs":[
    
   ],
   "metadata":{
    "datalore":{
     "node_id":"RUgGJJ91THN6DDoOWCjloZ",
     "type":"CODE",
     "hide_input_from_viewers":false,
     "hide_output_from_viewers":false
    }
   }
  },
  {
   "cell_type":"code",
   "source":[
    "diabetes.describe()"
   ],
   "execution_count":4,
   "outputs":[
    {
     "data":{
      "text\/html":[
       "<div>\n",
       "<style scoped>\n",
       "    .dataframe tbody tr th:only-of-type {\n",
       "        vertical-align: middle;\n",
       "    }\n",
       "\n",
       "    .dataframe tbody tr th {\n",
       "        vertical-align: top;\n",
       "    }\n",
       "\n",
       "    .dataframe thead th {\n",
       "        text-align: right;\n",
       "    }\n",
       "<\/style>\n",
       "<table border=\"1\" class=\"dataframe\">\n",
       "  <thead>\n",
       "    <tr style=\"text-align: right;\">\n",
       "      <th><\/th>\n",
       "      <th>Pregnancies<\/th>\n",
       "      <th>Glucose<\/th>\n",
       "      <th>BloodPressure<\/th>\n",
       "      <th>SkinThickness<\/th>\n",
       "      <th>Insulin<\/th>\n",
       "      <th>BMI<\/th>\n",
       "      <th>DiabetesPedigreeFunction<\/th>\n",
       "      <th>Age<\/th>\n",
       "      <th>Outcome<\/th>\n",
       "    <\/tr>\n",
       "  <\/thead>\n",
       "  <tbody>\n",
       "    <tr>\n",
       "      <th>count<\/th>\n",
       "      <td>768.000000<\/td>\n",
       "      <td>768.000000<\/td>\n",
       "      <td>768.000000<\/td>\n",
       "      <td>768.000000<\/td>\n",
       "      <td>768.000000<\/td>\n",
       "      <td>768.000000<\/td>\n",
       "      <td>768.000000<\/td>\n",
       "      <td>768.000000<\/td>\n",
       "      <td>768.000000<\/td>\n",
       "    <\/tr>\n",
       "    <tr>\n",
       "      <th>mean<\/th>\n",
       "      <td>3.845052<\/td>\n",
       "      <td>120.894531<\/td>\n",
       "      <td>69.105469<\/td>\n",
       "      <td>20.536458<\/td>\n",
       "      <td>79.799479<\/td>\n",
       "      <td>31.992578<\/td>\n",
       "      <td>0.471876<\/td>\n",
       "      <td>33.240885<\/td>\n",
       "      <td>0.348958<\/td>\n",
       "    <\/tr>\n",
       "    <tr>\n",
       "      <th>std<\/th>\n",
       "      <td>3.369578<\/td>\n",
       "      <td>31.972618<\/td>\n",
       "      <td>19.355807<\/td>\n",
       "      <td>15.952218<\/td>\n",
       "      <td>115.244002<\/td>\n",
       "      <td>7.884160<\/td>\n",
       "      <td>0.331329<\/td>\n",
       "      <td>11.760232<\/td>\n",
       "      <td>0.476951<\/td>\n",
       "    <\/tr>\n",
       "    <tr>\n",
       "      <th>min<\/th>\n",
       "      <td>0.000000<\/td>\n",
       "      <td>0.000000<\/td>\n",
       "      <td>0.000000<\/td>\n",
       "      <td>0.000000<\/td>\n",
       "      <td>0.000000<\/td>\n",
       "      <td>0.000000<\/td>\n",
       "      <td>0.078000<\/td>\n",
       "      <td>21.000000<\/td>\n",
       "      <td>0.000000<\/td>\n",
       "    <\/tr>\n",
       "    <tr>\n",
       "      <th>25%<\/th>\n",
       "      <td>1.000000<\/td>\n",
       "      <td>99.000000<\/td>\n",
       "      <td>62.000000<\/td>\n",
       "      <td>0.000000<\/td>\n",
       "      <td>0.000000<\/td>\n",
       "      <td>27.300000<\/td>\n",
       "      <td>0.243750<\/td>\n",
       "      <td>24.000000<\/td>\n",
       "      <td>0.000000<\/td>\n",
       "    <\/tr>\n",
       "    <tr>\n",
       "      <th>50%<\/th>\n",
       "      <td>3.000000<\/td>\n",
       "      <td>117.000000<\/td>\n",
       "      <td>72.000000<\/td>\n",
       "      <td>23.000000<\/td>\n",
       "      <td>30.500000<\/td>\n",
       "      <td>32.000000<\/td>\n",
       "      <td>0.372500<\/td>\n",
       "      <td>29.000000<\/td>\n",
       "      <td>0.000000<\/td>\n",
       "    <\/tr>\n",
       "    <tr>\n",
       "      <th>75%<\/th>\n",
       "      <td>6.000000<\/td>\n",
       "      <td>140.250000<\/td>\n",
       "      <td>80.000000<\/td>\n",
       "      <td>32.000000<\/td>\n",
       "      <td>127.250000<\/td>\n",
       "      <td>36.600000<\/td>\n",
       "      <td>0.626250<\/td>\n",
       "      <td>41.000000<\/td>\n",
       "      <td>1.000000<\/td>\n",
       "    <\/tr>\n",
       "    <tr>\n",
       "      <th>max<\/th>\n",
       "      <td>17.000000<\/td>\n",
       "      <td>199.000000<\/td>\n",
       "      <td>122.000000<\/td>\n",
       "      <td>99.000000<\/td>\n",
       "      <td>846.000000<\/td>\n",
       "      <td>67.100000<\/td>\n",
       "      <td>2.420000<\/td>\n",
       "      <td>81.000000<\/td>\n",
       "      <td>1.000000<\/td>\n",
       "    <\/tr>\n",
       "  <\/tbody>\n",
       "<\/table>\n",
       "<\/div>"
      ]
     },
     "metadata":{
      
     },
     "output_type":"display_data"
    }
   ],
   "metadata":{
    "datalore":{
     "node_id":"yl4WwcDLYwj6U89NT4Lhgt",
     "type":"CODE",
     "hide_input_from_viewers":false,
     "hide_output_from_viewers":false
    }
   }
  },
  {
   "cell_type":"code",
   "source":[
    "import seaborn as sns\n",
    "correlation_matrix = diabetes.corr().round(2)\n",
    "sns.heatmap(data = correlation_matrix, annot = True)"
   ],
   "execution_count":5,
   "outputs":[
    {
     "data":{
      "text\/plain":[
       "<AxesSubplot:>"
      ]
     },
     "metadata":{
      
     },
     "output_type":"display_data"
    },
    {
     "data":{
      "image\/png":"[encoded data removed]"
     },
     "metadata":{
      "image\/png":{
       
      }
     },
     "output_type":"display_data"
    }
   ],
   "metadata":{
    "datalore":{
     "node_id":"rvXsLe0u1rbbvXhmFetwOB",
     "type":"CODE",
     "hide_input_from_viewers":false,
     "hide_output_from_viewers":false
    }
   }
  },
  {
   "cell_type":"code",
   "source":[
    "data  = diabetes[['Pregnancies', 'Glucose', 'SkinThickness', 'Insulin', 'BMI', 'DiabetesPedigreeFunction', 'Age']]\n",
    "target = diabetes['Outcome']"
   ],
   "execution_count":76,
   "outputs":[
    
   ],
   "metadata":{
    "datalore":{
     "node_id":"7Vq2JLq33uRs4bETWhgJdn",
     "type":"CODE",
     "hide_input_from_viewers":false,
     "hide_output_from_viewers":false
    }
   }
  },
  {
   "cell_type":"code",
   "source":[
    "from sklearn.model_selection import train_test_split\n",
    "X_train, X_test, y_train, y_test = train_test_split(data, target, random_state=5)"
   ],
   "execution_count":77,
   "outputs":[
    
   ],
   "metadata":{
    "datalore":{
     "node_id":"3WqbRhInso5uG2KYsbtE7q",
     "type":"CODE",
     "hide_input_from_viewers":false,
     "hide_output_from_viewers":false
    }
   }
  },
  {
   "cell_type":"code",
   "source":[
    "from sklearn.linear_model import LogisticRegression\n",
    "lr = LogisticRegression(C=100, penalty='l2', solver='liblinear').fit(X_train,y_train)"
   ],
   "execution_count":82,
   "outputs":[
    
   ],
   "metadata":{
    "datalore":{
     "node_id":"JIXdsSTdbbXkvh9dVP9BoL",
     "type":"CODE",
     "hide_input_from_viewers":false,
     "hide_output_from_viewers":false
    }
   }
  },
  {
   "cell_type":"code",
   "source":[
    "print(\"Training set score: {:.2f}\".format(lr.score(X_train, y_train)))\n",
    "print(\"Test set score: {:.2f}\".format(lr.score(X_test, y_test)))"
   ],
   "execution_count":83,
   "outputs":[
    {
     "name":"stdout",
     "text":[
      "Training set score: 0.78\n",
      "Test set score: 0.79\n"
     ],
     "output_type":"stream"
    }
   ],
   "metadata":{
    "datalore":{
     "node_id":"Gz09oaXsh2w3PTRfltSgyt",
     "type":"CODE",
     "hide_input_from_viewers":false,
     "hide_output_from_viewers":false
    }
   }
  }
 ],
 "metadata":{
  "kernelspec":{
   "display_name":"Python",
   "language":"python",
   "name":"python"
  },
  "datalore":{
   "version":1,
   "computation_mode":"JUPYTER",
   "package_manager":"pip",
   "base_environment":"default",
   "packages":[
    
   ]
  }
 },
 "nbformat":4,
 "nbformat_minor":4
}